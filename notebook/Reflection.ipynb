{
 "cells": [
  {
   "cell_type": "markdown",
   "metadata": {},
   "source": [
    "# Attempting to reflect a database\n",
    "\n",
    "This is a clever way of saying: let's see if we can read the database schema using SQLAlchemy?"
   ]
  },
  {
   "cell_type": "code",
   "execution_count": 55,
   "metadata": {
    "collapsed": true
   },
   "outputs": [],
   "source": [
    "from sqlalchemy import create_engine\n",
    "engine = create_engine('sqlite:////vagrant/utils/db.sqlite')"
   ]
  },
  {
   "cell_type": "code",
   "execution_count": 56,
   "metadata": {
    "collapsed": true
   },
   "outputs": [],
   "source": [
    "from sqlalchemy import Table, Column, MetaData\n",
    "metadata = MetaData()\n",
    "connection = engine.connect()"
   ]
  },
  {
   "cell_type": "code",
   "execution_count": 57,
   "metadata": {
    "collapsed": false
   },
   "outputs": [],
   "source": [
    "user_table = Table('user', metadata, autoload=True, autoload_with=connection)\n",
    "purchase_table = Table('purchase', metadata, autoload=True, autoload_with=connection)"
   ]
  },
  {
   "cell_type": "markdown",
   "metadata": {},
   "source": [
    "## Let's hook this up to the ORM (rather than using Core)\n",
    "\n",
    "We need to pull in `declarative_base`, build a `Base` class, and then map the tables we reflected.\n"
   ]
  },
  {
   "cell_type": "code",
   "execution_count": 58,
   "metadata": {
    "collapsed": true
   },
   "outputs": [],
   "source": [
    "from sqlalchemy.ext.declarative import declarative_base\n",
    "Base = declarative_base()"
   ]
  },
  {
   "cell_type": "code",
   "execution_count": 59,
   "metadata": {
    "collapsed": true
   },
   "outputs": [],
   "source": [
    "class User(object):\n",
    "    def __init__(self, title, first_name, surname):\n",
    "        self.title = title\n",
    "        self.first_name = first_name\n",
    "        self.surname = surname\n",
    "        \n",
    "    def __repr__(self):\n",
    "        return \"<User(id_user={}, {} {} {})>\".format(self.id_user, self.title, self.first_name, self.surname)\n",
    "        \n",
    "class Purchase(object):\n",
    "    def __init__(self, id_user, category, item, date, price):\n",
    "        self.id_user = id_user\n",
    "        self.category = category\n",
    "        self.item = item\n",
    "        self.date = date\n",
    "        self.price = price\n",
    "    \n",
    "    def __repr__(self):\n",
    "        return (\"<Purchase(id_purchase={}, id_user={}, cat={}, item={}, date={}, price={})>\"\n",
    "                .format(self.id_purchase, self.id_user, self.category, self.item, self.date, self.price))\n"
   ]
  },
  {
   "cell_type": "markdown",
   "metadata": {},
   "source": [
    "Now map the items together."
   ]
  },
  {
   "cell_type": "code",
   "execution_count": 60,
   "metadata": {
    "collapsed": true
   },
   "outputs": [],
   "source": [
    "from sqlalchemy.orm import mapper, relationship, backref"
   ]
  },
  {
   "cell_type": "code",
   "execution_count": 61,
   "metadata": {
    "collapsed": false
   },
   "outputs": [
    {
     "data": {
      "text/plain": [
       "<Mapper at 0x7fc32e4b8390; User>"
      ]
     },
     "execution_count": 61,
     "metadata": {},
     "output_type": "execute_result"
    }
   ],
   "source": [
    "mapper(Purchase, purchase_table)\n",
    "mapper(User, user_table, properties={\n",
    "        'purchases': relationship(Purchase, backref='user', order_by=purchase_table.c.id_purchase)\n",
    "    })"
   ]
  },
  {
   "cell_type": "markdown",
   "metadata": {},
   "source": [
    "## Let's grab a session and do some querying\n"
   ]
  },
  {
   "cell_type": "code",
   "execution_count": 62,
   "metadata": {
    "collapsed": true
   },
   "outputs": [],
   "source": [
    "from sqlalchemy.orm import sessionmaker\n",
    "Session = sessionmaker(bind=engine)\n",
    "session = Session()"
   ]
  },
  {
   "cell_type": "code",
   "execution_count": 63,
   "metadata": {
    "collapsed": false
   },
   "outputs": [
    {
     "name": "stdout",
     "output_type": "stream",
     "text": [
      "<User(id_user=1, Mr Arty Grant)>\n",
      "<User(id_user=2, Prof Nancy Lewis)>\n",
      "<User(id_user=3, Ms Paula Walsh)>\n",
      "<User(id_user=4, Prof Nancy Miller)>\n",
      "<User(id_user=5, Mr Matthew Gibson)>\n",
      "<User(id_user=6, Mrs Sandra Rankin)>\n",
      "<User(id_user=7, Ms Paula Chapman)>\n",
      "<User(id_user=8, Sir John Rankin)>\n",
      "<User(id_user=9, Sir John Sampson)>\n",
      "<User(id_user=10, Ms Linda Smith)>\n"
     ]
    }
   ],
   "source": [
    "users = session.query(User).limit(10).all()\n",
    "for u in users:\n",
    "    print(u)"
   ]
  },
  {
   "cell_type": "code",
   "execution_count": 64,
   "metadata": {
    "collapsed": false
   },
   "outputs": [
    {
     "name": "stdout",
     "output_type": "stream",
     "text": [
      "[<Purchase(id_purchase=154, id_user=1, cat=KITCHEN, item=Garden Knife, date=2014-09-24 14:44:12.487547, price=5000)>, <Purchase(id_purchase=231, id_user=1, cat=ELECTRICAL, item=Garden Sock, date=2014-11-29 14:44:12.489055, price=6200)>, <Purchase(id_purchase=239, id_user=1, cat=HOME, item=Door Wiper, date=2014-12-26 14:44:12.489221, price=2500)>, <Purchase(id_purchase=289, id_user=1, cat=GARDEN, item=Door Wiper, date=2014-10-10 14:44:12.490888, price=9500)>, <Purchase(id_purchase=353, id_user=1, cat=HOME, item=Garden Wiper, date=2015-01-02 14:44:12.492198, price=3300)>, <Purchase(id_purchase=466, id_user=1, cat=ELECTRICAL, item=Counter Polisher, date=2015-03-31 14:44:12.494878, price=3500)>, <Purchase(id_purchase=550, id_user=1, cat=HOME, item=Door Hoover, date=2014-05-08 14:44:12.496696, price=6800)>, <Purchase(id_purchase=636, id_user=1, cat=ELECTRICAL, item=Garden Wiper, date=2014-11-25 14:44:12.498061, price=5500)>, <Purchase(id_purchase=710, id_user=1, cat=HOME, item=Garden Polisher, date=2014-08-06 14:44:12.499405, price=7700)>, <Purchase(id_purchase=792, id_user=1, cat=KITCHEN, item=Counter Wiper, date=2014-08-12 14:44:12.503900, price=7500)>, <Purchase(id_purchase=847, id_user=1, cat=HOME, item=Door Knife, date=2014-07-04 14:44:12.504976, price=1500)>, <Purchase(id_purchase=904, id_user=1, cat=KITCHEN, item=Floor Sock, date=2014-06-01 14:44:12.505871, price=3100)>, <Purchase(id_purchase=905, id_user=1, cat=GARDEN, item=Floor Polisher, date=2014-08-01 14:44:12.505886, price=6600)>, <Purchase(id_purchase=936, id_user=1, cat=HOME, item=Garden Sock, date=2014-06-28 14:44:12.506358, price=7500)>, <Purchase(id_purchase=970, id_user=1, cat=ELECTRICAL, item=Electric Knife, date=2015-02-10 14:44:12.506977, price=2300)>, <Purchase(id_purchase=997, id_user=1, cat=KITCHEN, item=Door Polisher, date=2014-12-27 14:44:12.507389, price=5800)>]\n"
     ]
    }
   ],
   "source": [
    "u1 = users[0]\n",
    "print(u1.purchases)"
   ]
  },
  {
   "cell_type": "code",
   "execution_count": 65,
   "metadata": {
    "collapsed": true
   },
   "outputs": [],
   "source": [
    "from sqlalchemy import func"
   ]
  },
  {
   "cell_type": "code",
   "execution_count": 68,
   "metadata": {
    "collapsed": false
   },
   "outputs": [
    {
     "name": "stdout",
     "output_type": "stream",
     "text": [
      "<User(id_user=67, Mr Nick Cole)>, Num Purchase=19\n",
      "<User(id_user=10, Ms Linda Smith)>, Num Purchase=18\n",
      "<User(id_user=1, Mr Arty Grant)>, Num Purchase=16\n",
      "<User(id_user=45, Mr Nick Macintosh)>, Num Purchase=16\n",
      "<User(id_user=76, Mr Arty Hartley)>, Num Purchase=16\n",
      "<User(id_user=34, Mr Buzz Pink)>, Num Purchase=15\n",
      "<User(id_user=49, Mrs Karen Walsh)>, Num Purchase=15\n",
      "<User(id_user=98, Mrs Sandra Chapman)>, Num Purchase=15\n",
      "<User(id_user=2, Prof Nancy Lewis)>, Num Purchase=14\n",
      "<User(id_user=3, Ms Paula Walsh)>, Num Purchase=14\n"
     ]
    }
   ],
   "source": [
    "results = (session.query(User, func.count(Purchase.id_purchase))\n",
    "           .join(Purchase)\n",
    "           .group_by(Purchase.id_user)\n",
    "           .having(func.count(Purchase.id_purchase) > 10)\n",
    "           .order_by(func.count(Purchase.id_purchase).desc())\n",
    "           .limit(10)\n",
    "           .all())\n",
    "for (u, count) in results:\n",
    "    print(\"{}, Num Purchase={}\".format(u, count))"
   ]
  },
  {
   "cell_type": "code",
   "execution_count": null,
   "metadata": {
    "collapsed": true
   },
   "outputs": [],
   "source": []
  }
 ],
 "metadata": {
  "kernelspec": {
   "display_name": "Python 3",
   "language": "python",
   "name": "python3"
  },
  "language_info": {
   "codemirror_mode": {
    "name": "ipython",
    "version": 3
   },
   "file_extension": ".py",
   "mimetype": "text/x-python",
   "name": "python",
   "nbconvert_exporter": "python",
   "pygments_lexer": "ipython3",
   "version": "3.4.0"
  }
 },
 "nbformat": 4,
 "nbformat_minor": 0
}
