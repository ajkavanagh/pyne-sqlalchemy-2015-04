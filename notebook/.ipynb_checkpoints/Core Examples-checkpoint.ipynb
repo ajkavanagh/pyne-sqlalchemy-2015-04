{
 "cells": [
  {
   "cell_type": "markdown",
   "metadata": {},
   "source": [
    "# SQL Alchemy Core Examples\n",
    "\n",
    "This file contains SQLAlchemy core examples.\n",
    "\n",
    "## Test we have SQL Alchemy"
   ]
  },
  {
   "cell_type": "code",
   "execution_count": 52,
   "metadata": {
    "collapsed": false
   },
   "outputs": [
    {
     "data": {
      "text/plain": [
       "'0.9.9'"
      ]
     },
     "execution_count": 52,
     "metadata": {},
     "output_type": "execute_result"
    }
   ],
   "source": [
    "import sqlalchemy\n",
    "sqlalchemy.__version__"
   ]
  },
  {
   "cell_type": "markdown",
   "metadata": {},
   "source": [
    "\n",
    "## Fetch an SQLite engine and create an in memory database\n"
   ]
  },
  {
   "cell_type": "code",
   "execution_count": 53,
   "metadata": {
    "collapsed": true
   },
   "outputs": [],
   "source": [
    "from sqlalchemy import create_engine\n",
    "engine = create_engine('sqlite:///:memory:')"
   ]
  },
  {
   "cell_type": "markdown",
   "metadata": {},
   "source": [
    "\n",
    "## Now lets make a couple of tables and do some queries\n"
   ]
  },
  {
   "cell_type": "code",
   "execution_count": 54,
   "metadata": {
    "collapsed": false
   },
   "outputs": [],
   "source": [
    "from sqlalchemy import Table, Column, Integer, String, MetaData, ForeignKey\n",
    "metadata = MetaData()\n",
    "user = Table('user', metadata,\n",
    "    Column('id_user', Integer, primary_key=True),\n",
    "    Column('name', String),\n",
    "    Column('age', Integer))\n",
    "item = Table('item', metadata,\n",
    "    Column('id_item', Integer, primary_key=True),\n",
    "    Column('id_user', Integer, ForeignKey('user.id_user')),\n",
    "    Column('thing', String))\n",
    "\n",
    "metadata.create_all(engine)"
   ]
  },
  {
   "cell_type": "markdown",
   "metadata": {},
   "source": [
    "... and let's add a couple of users.  First we make a statement for the insert, and then we would execute it."
   ]
  },
  {
   "cell_type": "code",
   "execution_count": 55,
   "metadata": {
    "collapsed": false
   },
   "outputs": [
    {
     "name": "stdout",
     "output_type": "stream",
     "text": [
      "INSERT INTO \"user\" (id_user, name, age) VALUES (:id_user, :name, :age)\n",
      "{'age': '20', 'id_user': 1, 'name': 'Bob'}\n",
      "{'age': '25', 'id_user': 2, 'name': 'Sally'}\n",
      "{'age': '30', 'id_user': 3, 'name': 'John'}\n"
     ]
    }
   ],
   "source": [
    "people = [\n",
    "    (1, 'Bob', '20'),\n",
    "    (2, 'Sally', '25'),\n",
    "    (3, 'John', '30')]\n",
    "insert = user.insert()\n",
    "print(insert)\n",
    "for p in people:\n",
    "    stmt = insert.values(p)\n",
    "    print(stmt.compile().params)"
   ]
  },
  {
   "cell_type": "markdown",
   "metadata": {},
   "source": [
    "... and then actually put them into the database:"
   ]
  },
  {
   "cell_type": "code",
   "execution_count": 56,
   "metadata": {
    "collapsed": false
   },
   "outputs": [],
   "source": [
    "connection = engine.connect()\n",
    "for p in people:\n",
    "    connection.execute(insert.values(p))"
   ]
  },
  {
   "cell_type": "markdown",
   "metadata": {},
   "source": [
    "... and pull the data back out."
   ]
  },
  {
   "cell_type": "code",
   "execution_count": 57,
   "metadata": {
    "collapsed": false
   },
   "outputs": [
    {
     "name": "stdout",
     "output_type": "stream",
     "text": [
      "<sqlalchemy.engine.result.ResultProxy object at 0x7ffcb430ca20>\n",
      "[(1, 'Bob', 20), (2, 'Sally', 25), (3, 'John', 30)]\n"
     ]
    }
   ],
   "source": [
    "from sqlalchemy import select\n",
    "users = connection.execute(select([user]))\n",
    "print(users)\n",
    "print(list(users))"
   ]
  },
  {
   "cell_type": "markdown",
   "metadata": {},
   "source": [
    "So the results are an `iterator` which gives up `tuples`.\n",
    "\n",
    "However, we can get a list of dictionaries from the `iterator`:"
   ]
  },
  {
   "cell_type": "code",
   "execution_count": 58,
   "metadata": {
    "collapsed": false
   },
   "outputs": [
    {
     "name": "stdout",
     "output_type": "stream",
     "text": [
      "{'age': 20, 'id_user': 1, 'name': 'Bob'}\n",
      "{'age': 25, 'id_user': 2, 'name': 'Sally'}\n",
      "{'age': 30, 'id_user': 3, 'name': 'John'}\n"
     ]
    }
   ],
   "source": [
    "users = connection.execute(select([user]))\n",
    "for u in users:\n",
    "    i = u.items()\n",
    "#     print(i)\n",
    "    print(dict(i))"
   ]
  },
  {
   "cell_type": "markdown",
   "metadata": {},
   "source": [
    "## Lets add some item data\n"
   ]
  },
  {
   "cell_type": "code",
   "execution_count": 59,
   "metadata": {
    "collapsed": false
   },
   "outputs": [],
   "source": [
    "items = (\n",
    "    (1, 1, 'Peanuts'),\n",
    "    (2, 1, 'VW'),\n",
    "    (3, 1, 'iPad'),\n",
    "    (4, 2, 'Raisins'),\n",
    "    (5, 2, 'Fiat'),\n",
    "    (6, 2, 'Nexus 10'),\n",
    "    (7, 2, 'Timex'),\n",
    "    (8, 3, 'Caviar'),\n",
    "    (9, 3, 'Porche'),\n",
    "    (10, 3, 'Surface Pro'),\n",
    "    (11, 3, 'Rolex'),\n",
    "    (12, 3, 'Boat'),\n",
    "    (13, 3, 'Plane'))\n",
    "insert = item.insert()\n",
    "for i in items:\n",
    "    connection.execute(insert.values(i))"
   ]
  },
  {
   "cell_type": "code",
   "execution_count": 60,
   "metadata": {
    "collapsed": false
   },
   "outputs": [
    {
     "name": "stdout",
     "output_type": "stream",
     "text": [
      "(1, 1, 'Peanuts')\n",
      "(2, 1, 'VW')\n",
      "(3, 1, 'iPad')\n",
      "(4, 2, 'Raisins')\n",
      "(5, 2, 'Fiat')\n",
      "(6, 2, 'Nexus 10')\n",
      "(7, 2, 'Timex')\n",
      "(8, 3, 'Caviar')\n",
      "(9, 3, 'Porche')\n",
      "(10, 3, 'Surface Pro')\n",
      "(11, 3, 'Rolex')\n",
      "(12, 3, 'Boat')\n",
      "(13, 3, 'Plane')\n"
     ]
    }
   ],
   "source": [
    "for x in connection.execute(select([item])):\n",
    "    print(x)"
   ]
  },
  {
   "cell_type": "markdown",
   "metadata": {},
   "source": [
    "Now lets now join the two tables together:"
   ]
  },
  {
   "cell_type": "code",
   "execution_count": 61,
   "metadata": {
    "collapsed": false
   },
   "outputs": [
    {
     "name": "stdout",
     "output_type": "stream",
     "text": [
      "(1, 'Bob', 20, 1, 1, 'Peanuts')\n",
      "(1, 'Bob', 20, 2, 1, 'VW')\n",
      "(1, 'Bob', 20, 3, 1, 'iPad')\n",
      "(1, 'Bob', 20, 4, 2, 'Raisins')\n",
      "(1, 'Bob', 20, 5, 2, 'Fiat')\n",
      "(1, 'Bob', 20, 6, 2, 'Nexus 10')\n",
      "(1, 'Bob', 20, 7, 2, 'Timex')\n",
      "(1, 'Bob', 20, 8, 3, 'Caviar')\n",
      "(1, 'Bob', 20, 9, 3, 'Porche')\n",
      "(1, 'Bob', 20, 10, 3, 'Surface Pro')\n",
      "(1, 'Bob', 20, 11, 3, 'Rolex')\n",
      "(1, 'Bob', 20, 12, 3, 'Boat')\n",
      "(1, 'Bob', 20, 13, 3, 'Plane')\n",
      "(2, 'Sally', 25, 1, 1, 'Peanuts')\n",
      "(2, 'Sally', 25, 2, 1, 'VW')\n",
      "(2, 'Sally', 25, 3, 1, 'iPad')\n",
      "(2, 'Sally', 25, 4, 2, 'Raisins')\n",
      "(2, 'Sally', 25, 5, 2, 'Fiat')\n",
      "(2, 'Sally', 25, 6, 2, 'Nexus 10')\n",
      "(2, 'Sally', 25, 7, 2, 'Timex')\n",
      "(2, 'Sally', 25, 8, 3, 'Caviar')\n",
      "(2, 'Sally', 25, 9, 3, 'Porche')\n",
      "(2, 'Sally', 25, 10, 3, 'Surface Pro')\n",
      "(2, 'Sally', 25, 11, 3, 'Rolex')\n",
      "(2, 'Sally', 25, 12, 3, 'Boat')\n",
      "(2, 'Sally', 25, 13, 3, 'Plane')\n",
      "(3, 'John', 30, 1, 1, 'Peanuts')\n",
      "(3, 'John', 30, 2, 1, 'VW')\n",
      "(3, 'John', 30, 3, 1, 'iPad')\n",
      "(3, 'John', 30, 4, 2, 'Raisins')\n",
      "(3, 'John', 30, 5, 2, 'Fiat')\n",
      "(3, 'John', 30, 6, 2, 'Nexus 10')\n",
      "(3, 'John', 30, 7, 2, 'Timex')\n",
      "(3, 'John', 30, 8, 3, 'Caviar')\n",
      "(3, 'John', 30, 9, 3, 'Porche')\n",
      "(3, 'John', 30, 10, 3, 'Surface Pro')\n",
      "(3, 'John', 30, 11, 3, 'Rolex')\n",
      "(3, 'John', 30, 12, 3, 'Boat')\n",
      "(3, 'John', 30, 13, 3, 'Plane')\n"
     ]
    }
   ],
   "source": [
    "stmt = select([user, item], use_labels=True)\n",
    "for s in connection.execute(stmt):\n",
    "    print(s)\n",
    "#     print(s.items())"
   ]
  },
  {
   "cell_type": "markdown",
   "metadata": {},
   "source": [
    "That's everything in both tables. But we have `id_user` in the second table.\n",
    "\n",
    "Let's do a very simple filter:"
   ]
  },
  {
   "cell_type": "code",
   "execution_count": 62,
   "metadata": {
    "collapsed": false
   },
   "outputs": [
    {
     "name": "stdout",
     "output_type": "stream",
     "text": [
      "SELECT \"user\".id_user, \"user\".name, \"user\".age, item.id_item, item.id_user, item.thing \n",
      "FROM \"user\", item \n",
      "WHERE \"user\".id_user = item.id_user\n"
     ]
    }
   ],
   "source": [
    "stmt = select([user, item]).where(user.c.id_user == item.c.id_user)\n",
    "print(stmt)"
   ]
  },
  {
   "cell_type": "code",
   "execution_count": 63,
   "metadata": {
    "collapsed": false
   },
   "outputs": [
    {
     "name": "stdout",
     "output_type": "stream",
     "text": [
      "(1, 'Bob', 20, 1, 1, 'Peanuts')\n",
      "(1, 'Bob', 20, 2, 1, 'VW')\n",
      "(1, 'Bob', 20, 3, 1, 'iPad')\n",
      "(2, 'Sally', 25, 4, 2, 'Raisins')\n",
      "(2, 'Sally', 25, 5, 2, 'Fiat')\n",
      "(2, 'Sally', 25, 6, 2, 'Nexus 10')\n",
      "(2, 'Sally', 25, 7, 2, 'Timex')\n",
      "(3, 'John', 30, 8, 3, 'Caviar')\n",
      "(3, 'John', 30, 9, 3, 'Porche')\n",
      "(3, 'John', 30, 10, 3, 'Surface Pro')\n",
      "(3, 'John', 30, 11, 3, 'Rolex')\n",
      "(3, 'John', 30, 12, 3, 'Boat')\n",
      "(3, 'John', 30, 13, 3, 'Plane')\n"
     ]
    }
   ],
   "source": [
    "for s in connection.execute(stmt):\n",
    "    print(s)"
   ]
  },
  {
   "cell_type": "markdown",
   "metadata": {},
   "source": [
    "## Functions?"
   ]
  },
  {
   "cell_type": "code",
   "execution_count": 66,
   "metadata": {
    "collapsed": false
   },
   "outputs": [
    {
     "name": "stdout",
     "output_type": "stream",
     "text": [
      "((3,),)\n"
     ]
    }
   ],
   "source": [
    "from sqlalchemy import func\n",
    "stmt = select([func.count(user.c.id_user)])\n",
    "result = connection.execute(stmt)\n",
    "print(tuple(result))"
   ]
  },
  {
   "cell_type": "markdown",
   "metadata": {},
   "source": [
    "That's great, but we have a convenience function as well:"
   ]
  },
  {
   "cell_type": "code",
   "execution_count": 68,
   "metadata": {
    "collapsed": false
   },
   "outputs": [
    {
     "name": "stdout",
     "output_type": "stream",
     "text": [
      "3\n"
     ]
    }
   ],
   "source": [
    "result = connection.execute(stmt).scalar()\n",
    "print(result)"
   ]
  },
  {
   "cell_type": "markdown",
   "metadata": {},
   "source": [
    "## Group by"
   ]
  },
  {
   "cell_type": "code",
   "execution_count": 71,
   "metadata": {
    "collapsed": false
   },
   "outputs": [
    {
     "name": "stdout",
     "output_type": "stream",
     "text": [
      "SELECT \"user\".id_user, \"user\".name, \"user\".age, count(\"user\".id_user) AS item_count \n",
      "FROM \"user\" JOIN item ON \"user\".id_user = item.id_user GROUP BY \"user\".id_user\n"
     ]
    }
   ],
   "source": [
    "stmt = (select([user, func.count(user.c.id_user).label('item_count')])\n",
    "        .select_from(user.join(item))\n",
    "        .group_by(user.c.id_user))\n",
    "print(stmt)"
   ]
  },
  {
   "cell_type": "code",
   "execution_count": 73,
   "metadata": {
    "collapsed": false
   },
   "outputs": [
    {
     "name": "stdout",
     "output_type": "stream",
     "text": [
      "[('id_user', 1), ('name', 'Bob'), ('age', 20), ('item_count', 3)]\n",
      "[('id_user', 2), ('name', 'Sally'), ('age', 25), ('item_count', 4)]\n",
      "[('id_user', 3), ('name', 'John'), ('age', 30), ('item_count', 6)]\n"
     ]
    }
   ],
   "source": [
    "for s in connection.execute(stmt):\n",
    "    print(s.items())"
   ]
  },
  {
   "cell_type": "markdown",
   "metadata": {},
   "source": [
    "## A final 'fun' query"
   ]
  },
  {
   "cell_type": "code",
   "execution_count": 76,
   "metadata": {
    "collapsed": false
   },
   "outputs": [
    {
     "name": "stdout",
     "output_type": "stream",
     "text": [
      "(3,)\n"
     ]
    }
   ],
   "source": [
    "stmt1 = select([item.c.id_user]).where(item.c.thing.ilike('boat'))\n",
    "print(connection.execute(stmt1).fetchone())"
   ]
  },
  {
   "cell_type": "code",
   "execution_count": 77,
   "metadata": {
    "collapsed": false
   },
   "outputs": [
    {
     "name": "stdout",
     "output_type": "stream",
     "text": [
      "SELECT \"user\".id_user, \"user\".name, \"user\".age \n",
      "FROM \"user\" \n",
      "WHERE \"user\".id_user IN (SELECT item.id_user \n",
      "FROM item \n",
      "WHERE lower(item.thing) LIKE lower(:thing_1))\n"
     ]
    }
   ],
   "source": [
    "stmt2 = select([user]).where(user.c.id_user.in_(stmt1.alias()))\n",
    "print(stmt2)"
   ]
  },
  {
   "cell_type": "code",
   "execution_count": 78,
   "metadata": {
    "collapsed": false
   },
   "outputs": [
    {
     "name": "stdout",
     "output_type": "stream",
     "text": [
      "(3, 'John', 30)\n"
     ]
    }
   ],
   "source": [
    "print(connection.execute(stmt2).fetchone())"
   ]
  },
  {
   "cell_type": "markdown",
   "metadata": {},
   "source": [
    "# Okay, enough of Core - now on to the ORM"
   ]
  }
 ],
 "metadata": {
  "kernelspec": {
   "display_name": "Python 3",
   "language": "python",
   "name": "python3"
  },
  "language_info": {
   "codemirror_mode": {
    "name": "ipython",
    "version": 3
   },
   "file_extension": ".py",
   "mimetype": "text/x-python",
   "name": "python",
   "nbconvert_exporter": "python",
   "pygments_lexer": "ipython3",
   "version": "3.4.0"
  }
 },
 "nbformat": 4,
 "nbformat_minor": 0
}
