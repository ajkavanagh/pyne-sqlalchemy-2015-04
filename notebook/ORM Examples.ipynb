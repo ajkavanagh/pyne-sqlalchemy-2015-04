{
 "cells": [
  {
   "cell_type": "markdown",
   "metadata": {},
   "source": [
    "# SQL Alchemy ORM Examples\n",
    "\n",
    "So, these are the same as the CORE expression language, but using the ORM toolkit"
   ]
  },
  {
   "cell_type": "markdown",
   "metadata": {},
   "source": [
    "## Create an in memory SQLite database engine"
   ]
  },
  {
   "cell_type": "code",
   "execution_count": 2,
   "metadata": {
    "collapsed": true
   },
   "outputs": [],
   "source": [
    "from sqlalchemy import create_engine\n",
    "engine = create_engine('sqlite:///:memory:')"
   ]
  },
  {
   "cell_type": "markdown",
   "metadata": {},
   "source": [
    "## Create some tables using ORM declarative"
   ]
  },
  {
   "cell_type": "code",
   "execution_count": 3,
   "metadata": {
    "collapsed": true
   },
   "outputs": [],
   "source": [
    "from sqlalchemy.ext.declarative import declarative_base\n",
    "Base = declarative_base()"
   ]
  },
  {
   "cell_type": "markdown",
   "metadata": {},
   "source": [
    "`declarative_base` is a factory that makes a class on which to define ORM classes.  We use it to create our models like this:"
   ]
  },
  {
   "cell_type": "code",
   "execution_count": 4,
   "metadata": {
    "collapsed": true
   },
   "outputs": [],
   "source": [
    "from sqlalchemy import Column, Integer, String, MetaData, ForeignKey\n",
    "\n",
    "class User(Base):\n",
    "    __tablename__ = 'user'\n",
    "    \n",
    "    id_user = Column(Integer, primary_key=True)\n",
    "    name = Column(String)\n",
    "    age = Column(Integer)\n",
    "    \n",
    "    def __repr__(self):\n",
    "        return \"<User(id_user={}, name={}, age={})\".format(self.id_user, self.name, self.age)\n",
    "\n",
    "from sqlalchemy.orm import relationship, backref\n",
    "    \n",
    "class Item(Base):\n",
    "    __tablename__ = 'item'\n",
    "    \n",
    "    id_item = Column(Integer, primary_key=True)\n",
    "    id_user = Column(Integer, ForeignKey('user.id_user'))\n",
    "    thing = Column(String)\n",
    "    \n",
    "    user = relationship(\"User\", backref=backref('items', order_by=id_item))\n",
    "    \n",
    "    def __repr__(self):\n",
    "        return \"<Item(id_item={}, id_user={}, thing={})\".format(self.id_item, self.id_user, self.thing)"
   ]
  },
  {
   "cell_type": "code",
   "execution_count": 5,
   "metadata": {
    "collapsed": false
   },
   "outputs": [
    {
     "data": {
      "text/plain": [
       "Table('user', MetaData(bind=None), Column('id_user', Integer(), table=<user>, primary_key=True, nullable=False), Column('name', String(), table=<user>), Column('age', Integer(), table=<user>), schema=None)"
      ]
     },
     "execution_count": 5,
     "metadata": {},
     "output_type": "execute_result"
    }
   ],
   "source": [
    "User.__table__"
   ]
  },
  {
   "cell_type": "markdown",
   "metadata": {},
   "source": [
    "## Now create the tables in the `engine`\n",
    "\n",
    "This is the equivalent of `metadata.create_all(engine)`."
   ]
  },
  {
   "cell_type": "code",
   "execution_count": 6,
   "metadata": {
    "collapsed": true
   },
   "outputs": [],
   "source": [
    "Base.metadata.create_all(engine)"
   ]
  },
  {
   "cell_type": "markdown",
   "metadata": {},
   "source": [
    "## Create a User instance - this is just in Python memory - not in the DB!"
   ]
  },
  {
   "cell_type": "code",
   "execution_count": 7,
   "metadata": {
    "collapsed": false
   },
   "outputs": [
    {
     "name": "stdout",
     "output_type": "stream",
     "text": [
      "<User(id_user=1, name=Billy, age=40)\n"
     ]
    }
   ],
   "source": [
    "u = User(id_user=1, name=\"Billy\", age=40)\n",
    "print(u)"
   ]
  },
  {
   "cell_type": "markdown",
   "metadata": {},
   "source": [
    "## Sessions\n",
    "\n",
    "And now for something different.  We need to talk about sessions."
   ]
  },
  {
   "cell_type": "code",
   "execution_count": 8,
   "metadata": {
    "collapsed": true
   },
   "outputs": [],
   "source": [
    "from sqlalchemy.orm import sessionmaker\n",
    "Session = sessionmaker(bind=engine)\n",
    "session = Session()"
   ]
  },
  {
   "cell_type": "markdown",
   "metadata": {},
   "source": [
    "## Let's add a some users"
   ]
  },
  {
   "cell_type": "code",
   "execution_count": 9,
   "metadata": {
    "collapsed": false
   },
   "outputs": [],
   "source": [
    "people = [\n",
    "    (1, 'Bob', '20'),\n",
    "    (2, 'Sally', '25'),\n",
    "    (3, 'John', '30')]\n",
    "for (id_user, name, age) in people:\n",
    "    u = User(id_user=id_user, name=name, age=age)\n",
    "    session.add(u)\n"
   ]
  },
  {
   "cell_type": "markdown",
   "metadata": {},
   "source": [
    "## Let's query for a user"
   ]
  },
  {
   "cell_type": "code",
   "execution_count": 10,
   "metadata": {
    "collapsed": false
   },
   "outputs": [
    {
     "name": "stdout",
     "output_type": "stream",
     "text": [
      "<User(id_user=1, name=Bob, age=20)\n"
     ]
    }
   ],
   "source": [
    "u1 = session.query(User).get(1)\n",
    "print(u1)"
   ]
  },
  {
   "cell_type": "markdown",
   "metadata": {},
   "source": [
    "So this is similar to:\n",
    "\n",
    "```python\n",
    "user_tuple = connection.execute(select([user]).where(user.c.id_user == 1)).fetchone()\n",
    "```"
   ]
  },
  {
   "cell_type": "markdown",
   "metadata": {},
   "source": [
    "And we can also count the users in the table:"
   ]
  },
  {
   "cell_type": "code",
   "execution_count": 11,
   "metadata": {
    "collapsed": false
   },
   "outputs": [
    {
     "name": "stdout",
     "output_type": "stream",
     "text": [
      "3\n"
     ]
    }
   ],
   "source": [
    "count = session.query(User).count()\n",
    "print(count)"
   ]
  },
  {
   "cell_type": "markdown",
   "metadata": {},
   "source": [
    "## Let's add the `item`s to the database too"
   ]
  },
  {
   "cell_type": "code",
   "execution_count": 12,
   "metadata": {
    "collapsed": false
   },
   "outputs": [],
   "source": [
    "items = (\n",
    "    (1, 1, 'Peanuts'),\n",
    "    (2, 1, 'VW'),\n",
    "    (3, 1, 'iPad'),\n",
    "    (4, 2, 'Raisins'),\n",
    "    (5, 2, 'Fiat'),\n",
    "    (6, 2, 'Nexus 10'),\n",
    "    (7, 2, 'Timex'),\n",
    "    (8, 3, 'Caviar'),\n",
    "    (9, 3, 'Porche'),\n",
    "    (10, 3, 'Surface Pro'),\n",
    "    (11, 3, 'Rolex'),\n",
    "    (12, 3, 'Boat'),\n",
    "    (13, 3, 'Plane'))\n",
    "for (id_item, id_user, thing) in items:\n",
    "    i = Item(id_item=id_item, id_user=id_user, thing=thing)\n",
    "    session.add(i)"
   ]
  },
  {
   "cell_type": "code",
   "execution_count": 13,
   "metadata": {
    "collapsed": false
   },
   "outputs": [
    {
     "name": "stdout",
     "output_type": "stream",
     "text": [
      "13\n"
     ]
    }
   ],
   "source": [
    "print(session.query(Item).count())"
   ]
  },
  {
   "cell_type": "markdown",
   "metadata": {},
   "source": [
    "## Inspecting the data\n",
    "\n",
    "As we're in the `domain` model now, we need to look at things like objects.  Let's look at the `John User()` item and see what's there:"
   ]
  },
  {
   "cell_type": "code",
   "execution_count": 14,
   "metadata": {
    "collapsed": false
   },
   "outputs": [
    {
     "name": "stdout",
     "output_type": "stream",
     "text": [
      "<User(id_user=1, name=Bob, age=20)\n"
     ]
    }
   ],
   "source": [
    "john = session.query(User).get(1)\n",
    "print(john)"
   ]
  },
  {
   "cell_type": "code",
   "execution_count": 15,
   "metadata": {
    "collapsed": false
   },
   "outputs": [
    {
     "name": "stdout",
     "output_type": "stream",
     "text": [
      "<Item(id_item=1, id_user=1, thing=Peanuts)\n",
      "<Item(id_item=2, id_user=1, thing=VW)\n",
      "<Item(id_item=3, id_user=1, thing=iPad)\n"
     ]
    }
   ],
   "source": [
    "for i in john.items:\n",
    "    print(i)"
   ]
  },
  {
   "cell_type": "code",
   "execution_count": 16,
   "metadata": {
    "collapsed": false
   },
   "outputs": [
    {
     "name": "stdout",
     "output_type": "stream",
     "text": [
      "<Item(id_item=1, id_user=1, thing=Peanuts)\n",
      "<User(id_user=1, name=Bob, age=20)\n"
     ]
    }
   ],
   "source": [
    "item1 = john.items[0]\n",
    "print(item1)\n",
    "print(item1.user)"
   ]
  },
  {
   "cell_type": "markdown",
   "metadata": {},
   "source": [
    "\n",
    "Let's list out all of the users and items:"
   ]
  },
  {
   "cell_type": "code",
   "execution_count": 17,
   "metadata": {
    "collapsed": false
   },
   "outputs": [
    {
     "name": "stdout",
     "output_type": "stream",
     "text": [
      "<User(id_user=1, name=Bob, age=20) <Item(id_item=1, id_user=1, thing=Peanuts)\n",
      "<User(id_user=1, name=Bob, age=20) <Item(id_item=2, id_user=1, thing=VW)\n",
      "<User(id_user=1, name=Bob, age=20) <Item(id_item=3, id_user=1, thing=iPad)\n",
      "<User(id_user=2, name=Sally, age=25) <Item(id_item=4, id_user=2, thing=Raisins)\n",
      "<User(id_user=2, name=Sally, age=25) <Item(id_item=5, id_user=2, thing=Fiat)\n",
      "<User(id_user=2, name=Sally, age=25) <Item(id_item=6, id_user=2, thing=Nexus 10)\n",
      "<User(id_user=2, name=Sally, age=25) <Item(id_item=7, id_user=2, thing=Timex)\n",
      "<User(id_user=3, name=John, age=30) <Item(id_item=8, id_user=3, thing=Caviar)\n",
      "<User(id_user=3, name=John, age=30) <Item(id_item=9, id_user=3, thing=Porche)\n",
      "<User(id_user=3, name=John, age=30) <Item(id_item=10, id_user=3, thing=Surface Pro)\n",
      "<User(id_user=3, name=John, age=30) <Item(id_item=11, id_user=3, thing=Rolex)\n",
      "<User(id_user=3, name=John, age=30) <Item(id_item=12, id_user=3, thing=Boat)\n",
      "<User(id_user=3, name=John, age=30) <Item(id_item=13, id_user=3, thing=Plane)\n"
     ]
    }
   ],
   "source": [
    "for (u, i) in session.query(User, Item).filter(User.id_user == Item.id_user).all():\n",
    "    print(u, i)"
   ]
  },
  {
   "cell_type": "markdown",
   "metadata": {},
   "source": [
    "\n",
    "Let's find the user who has a `Timex`:"
   ]
  },
  {
   "cell_type": "code",
   "execution_count": 18,
   "metadata": {
    "collapsed": false
   },
   "outputs": [
    {
     "name": "stdout",
     "output_type": "stream",
     "text": [
      "<User(id_user=2, name=Sally, age=25)\n"
     ]
    }
   ],
   "source": [
    "u = session.query(User).join(Item).filter(Item.thing.ilike('timex')).one()\n",
    "print(u)"
   ]
  },
  {
   "cell_type": "markdown",
   "metadata": {},
   "source": [
    "\n",
    "How about `func.count()` and friends?"
   ]
  },
  {
   "cell_type": "code",
   "execution_count": 19,
   "metadata": {
    "collapsed": true
   },
   "outputs": [],
   "source": [
    "from sqlalchemy import func"
   ]
  },
  {
   "cell_type": "code",
   "execution_count": 20,
   "metadata": {
    "collapsed": false
   },
   "outputs": [
    {
     "name": "stdout",
     "output_type": "stream",
     "text": [
      "(<User(id_user=1, name=Bob, age=20), 3)\n",
      "(<User(id_user=2, name=Sally, age=25), 4)\n",
      "(<User(id_user=3, name=John, age=30), 6)\n"
     ]
    }
   ],
   "source": [
    "results = session.query(User, func.count(Item.id_item)).join(Item).group_by(Item.id_user).all()\n",
    "for r in results:\n",
    "    print(r)"
   ]
  },
  {
   "cell_type": "markdown",
   "metadata": {},
   "source": [
    "# That's all for ORM"
   ]
  }
 ],
 "metadata": {
  "kernelspec": {
   "display_name": "Python 3",
   "language": "python",
   "name": "python3"
  },
  "language_info": {
   "codemirror_mode": {
    "name": "ipython",
    "version": 3
   },
   "file_extension": ".py",
   "mimetype": "text/x-python",
   "name": "python",
   "nbconvert_exporter": "python",
   "pygments_lexer": "ipython3",
   "version": "3.4.0"
  }
 },
 "nbformat": 4,
 "nbformat_minor": 0
}
